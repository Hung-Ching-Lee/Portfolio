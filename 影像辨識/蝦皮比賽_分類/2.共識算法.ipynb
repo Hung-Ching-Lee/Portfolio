{
 "cells": [
  {
   "cell_type": "code",
   "execution_count": null,
   "metadata": {
    "colab": {},
    "colab_type": "code",
    "id": "ZcwLA6yxy5uV"
   },
   "outputs": [],
   "source": [
    "from google.colab import drive\n",
    "drive.mount('/content/drive/')"
   ]
  },
  {
   "cell_type": "code",
   "execution_count": null,
   "metadata": {
    "colab": {},
    "colab_type": "code",
    "id": "kg9rT0GwzCaP"
   },
   "outputs": [],
   "source": [
    "import numpy as np\n",
    "import os\n",
    "from sklearn.metrics import confusion_matrix\n",
    "import seaborn as sn; sn.set(font_scale=1.4)\n",
    "from sklearn.utils import shuffle           \n",
    "import matplotlib.pyplot as plt             \n",
    "import cv2                                 \n",
    "import tensorflow as tf                \n",
    "from tqdm import tqdm\n",
    "import zipfile\n",
    "import keras\n",
    "from keras.models import Sequential\n",
    "from keras.models import Model\n",
    "from keras.callbacks import ModelCheckpoint, LearningRateScheduler, EarlyStopping, ReduceLROnPlateau, TensorBoard\n",
    "from keras import optimizers, losses, activations, models\n",
    "from keras.layers import Convolution2D, Dense, Input, Flatten, Dropout, MaxPooling2D, BatchNormalization, GlobalAveragePooling2D, Concatenate\n",
    "from keras import applications\n",
    "from keras.utils import multi_gpu_model\n",
    "from keras.callbacks import ModelCheckpoint,EarlyStopping\n",
    "from keras.models import load_model"
   ]
  },
  {
   "cell_type": "code",
   "execution_count": null,
   "metadata": {
    "colab": {},
    "colab_type": "code",
    "id": "NHSONa8czxzA"
   },
   "outputs": [],
   "source": [
    "pip install efficientnet"
   ]
  },
  {
   "cell_type": "code",
   "execution_count": null,
   "metadata": {
    "colab": {},
    "colab_type": "code",
    "id": "PQhKp0iKzH7D"
   },
   "outputs": [],
   "source": [
    "import efficientnet.tfkeras\n",
    "from tensorflow.keras.models import load_model\n",
    "model_xception = load_model(r\"/content/drive/My Drive/DL/model/xception.h5\")\n",
    "# model_EfficientNetB7 = load_model(r\"/content/drive/My Drive/DL/model/EfficientNetB7.h5\")\n",
    "model_EfficientNetB7= load_model(r\"/content/drive/My Drive/DL/model/EfficientNetB7_new.h5 \")\n",
    "model_InceptionResNetV2 = load_model(r\"/content/drive/My Drive/DL/model/InceptionResNetV2.h5\")\n",
    "model_NASNetLarge = load_model(r\"/content/drive/My Drive/DL/model/NASNetLarge.h5\")\n",
    "model_EfficientNetB7= load_model(r\"/content/drive/My Drive/DL/model/EfficientNetB7_new.h5 \")"
   ]
  },
  {
   "cell_type": "code",
   "execution_count": null,
   "metadata": {
    "colab": {},
    "colab_type": "code",
    "id": "oj_FWSAzzbrt"
   },
   "outputs": [],
   "source": [
    "file_dir = '/content/drive/My Drive/DL/model/test_壓縮.zip'  # 你的压缩包路径\n",
    "zipFile = zipfile.ZipFile(file_dir)\n",
    "for file in zipFile.namelist():\n",
    "    zipFile.extract(file, '/content/model')  # 解压路径\n",
    "zipFile.close()"
   ]
  },
  {
   "cell_type": "code",
   "execution_count": null,
   "metadata": {
    "colab": {},
    "colab_type": "code",
    "id": "neBNK9pQ0OU_"
   },
   "outputs": [],
   "source": [
    "import pandas as pd\n",
    "import cv2\n",
    "import os\n",
    "from keras.preprocessing.image import ImageDataGenerator\n",
    "from keras.applications.inception_v3 import preprocess_input\n",
    "import numpy as np\n",
    "from skimage import io\n",
    "# load imgs\n",
    "test_img_path = r'/content/model/test'\n",
    "df_test  = pd.read_csv(r'/content/model/test.csv')\n",
    "all_images_path = [str(test_img_path)+\"/\" +f for f in df_test.iloc[:,0].tolist()]"
   ]
  },
  {
   "cell_type": "code",
   "execution_count": null,
   "metadata": {
    "colab": {},
    "colab_type": "code",
    "id": "flIlofpp0T-b"
   },
   "outputs": [],
   "source": [
    "class_names = ['long_skirt', 'Muslim', 'tshirt', 'long_tshirt', 'jeans', 'ring','earring','hat','wallet','trunk','phone_case',\n",
    "               'iphone','clock','feeding_bottle','electric_pot','coffee_beans','flat_shoes','high_heels','Electrical_appliances',\n",
    "               'usb','chair','racket','helmet','gloves','watch','belt','earphone','toycar','thick_coat',\n",
    "               'tide_pants','canvas_shoes','snacks','mask','bottled_liquid','care_products','perfume','cleaning_tools',\n",
    "               'laptop','bowl','decoration','bathroom_supplies','sofa']\n",
    "\n",
    "class_names_label = {str(i):class_name for i, class_name in enumerate(class_names)}\n",
    "\n",
    "nb_classes = len(class_names)\n",
    "\n",
    "def img2arr_EfficientNetB7(path):\n",
    "    \"\"\"\n",
    "    圖片轉4d array\n",
    "    return 4d array\n",
    "    \"\"\"\n",
    "    def predict_result(image_array):    \n",
    "        return np.argmax(model_EfficientNetB7.predict(image_array), axis=1).tolist()\n",
    "    image = io.imread(path)\n",
    "    image_EfficientNetB7  = cv2.cvtColor(image, cv2.COLOR_BGR2RGB)\n",
    "    image_EfficientNetB7 = cv2.resize(image_EfficientNetB7,(600,600))\n",
    "    image_EfficientNetB7 = np.array(image_EfficientNetB7, dtype='float32')\n",
    "    image_EfficientNetB7 = np.stack([image_EfficientNetB7], axis=0)\n",
    "    image_EfficientNetB7/=255\n",
    "    result = predict_result(image_EfficientNetB7)[0]    \n",
    "    return [class_names_label[str(result)], result] \n",
    "\n",
    "def img2arr_xception(path):\n",
    "    \"\"\"\n",
    "    圖片轉4d array\n",
    "    return 4d array\n",
    "    \"\"\"\n",
    "    def predict_result(image_array):    \n",
    "        return np.argmax(model_xception.predict(image_array), axis=1).tolist()\n",
    "    image = io.imread(path)\n",
    "    image_xception  = cv2.cvtColor(image, cv2.COLOR_BGR2RGB)\n",
    "    image_xception = cv2.resize(image_xception,(331,331))\n",
    "    image_xception = np.array(image_xception, dtype='float32')\n",
    "    image_xception = np.stack([image_xception], axis=0)\n",
    "    image_xception/=255\n",
    "    result = predict_result(image_xception)[0]    \n",
    "    return [class_names_label[str(result)], result] \n",
    "\n",
    "def img2arr_InceptionResNetV2(path):\n",
    "    \"\"\"\n",
    "    圖片轉4d array\n",
    "    return 4d array\n",
    "    \"\"\"\n",
    "    def predict_result(image_array):    \n",
    "        return np.argmax(model_InceptionResNetV2.predict(image_array), axis=1).tolist()\n",
    "    image = io.imread(path)\n",
    "    image_InceptionResNetV2  = cv2.cvtColor(image, cv2.COLOR_BGR2RGB)\n",
    "    image_InceptionResNetV2 = cv2.resize(image_InceptionResNetV2,(331,331))\n",
    "    image_InceptionResNetV2 = np.array(image_InceptionResNetV2, dtype='float32')\n",
    "    image_InceptionResNetV2 = np.stack([image_InceptionResNetV2], axis=0)\n",
    "    image_InceptionResNetV2/=255\n",
    "    result = predict_result(image_InceptionResNetV2)[0]    \n",
    "    return [class_names_label[str(result)], result] \n",
    "\n",
    "def img2arr_NASNetLarge(path):\n",
    "    \"\"\"\n",
    "    圖片轉4d array\n",
    "    return 4d array\n",
    "    \"\"\"\n",
    "    def predict_result(image_array):    \n",
    "        return np.argmax(model_NASNetLarge.predict(image_array), axis=1).tolist()\n",
    "    image = io.imread(path)\n",
    "    img2arr_NASNetLarge  = cv2.cvtColor(image, cv2.COLOR_BGR2RGB)\n",
    "    img2arr_NASNetLarge = cv2.resize(img2arr_NASNetLarge,(331,331))\n",
    "    img2arr_NASNetLarge = np.array(img2arr_NASNetLarge, dtype='float32')\n",
    "    img2arr_NASNetLarge = np.stack([img2arr_NASNetLarge], axis=0)\n",
    "    img2arr_NASNetLarge/=255\n",
    "    result = predict_result(img2arr_NASNetLarge)[0]    \n",
    "    return [class_names_label[str(result)], result] \n",
    "\n",
    "\n",
    "\n",
    "\n",
    "#_________________________________________________________________________________________________________\n",
    "#以下是數值\n",
    "\n",
    "def img2arr_EfficientNetB7_prob(path):\n",
    "    \"\"\"\n",
    "    圖片轉4d array\n",
    "    return 4d array\n",
    "    \"\"\"\n",
    "    def predict_result(image_array):    \n",
    "        return (model_EfficientNetB7.predict(image_array)).tolist()\n",
    "    image = io.imread(path)\n",
    "    image_EfficientNetB7  = cv2.cvtColor(image, cv2.COLOR_BGR2RGB)\n",
    "    image_EfficientNetB7 = cv2.resize(image_EfficientNetB7,(600,600))\n",
    "    image_EfficientNetB7 = np.array(image_EfficientNetB7, dtype='float32')\n",
    "    image_EfficientNetB7 = np.stack([image_EfficientNetB7], axis=0)\n",
    "    image_EfficientNetB7/=255\n",
    "    result_EfficientNetB7_prob = predict_result(image_EfficientNetB7)[0]    \n",
    "    return result_EfficientNetB7_prob\n",
    "\n",
    "def img2arr_xception_prob(path):\n",
    "    \"\"\"\n",
    "    圖片轉4d array\n",
    "    return 4d array\n",
    "    \"\"\"\n",
    "    def predict_result(image_array):    \n",
    "        return (model_xception.predict(image_array)).tolist()\n",
    "    image = io.imread(path)\n",
    "    image_xception  = cv2.cvtColor(image, cv2.COLOR_BGR2RGB)\n",
    "    image_xception = cv2.resize(image_xception,(331,331))\n",
    "    image_xception = np.array(image_xception, dtype='float32')\n",
    "    image_xception = np.stack([image_xception], axis=0)\n",
    "    image_xception/=255\n",
    "    result_xception_prob = predict_result(image_xception)[0]     \n",
    "    return result_xception_prob \n",
    "\n",
    "def img2arr_InceptionResNetV2_prob(path):\n",
    "    \"\"\"\n",
    "    圖片轉4d array\n",
    "    return 4d array\n",
    "    \"\"\"\n",
    "    def predict_result(image_array):    \n",
    "        return (model_InceptionResNetV2.predict(image_array)).tolist()\n",
    "    image = io.imread(path)\n",
    "    image_InceptionResNetV2  = cv2.cvtColor(image, cv2.COLOR_BGR2RGB)\n",
    "    image_InceptionResNetV2 = cv2.resize(image_InceptionResNetV2,(331,331))\n",
    "    image_InceptionResNetV2 = np.array(image_InceptionResNetV2, dtype='float32')\n",
    "    image_InceptionResNetV2 = np.stack([image_InceptionResNetV2], axis=0)\n",
    "    image_InceptionResNetV2/=255\n",
    "    result_InceptionResNetV2_prob = predict_result(image_InceptionResNetV2)[0]       \n",
    "    return result_InceptionResNetV2_prob \n",
    "\n",
    "\n",
    "def img2arr_NASNetLarge_prob(path):\n",
    "    \"\"\"\n",
    "    圖片轉4d array\n",
    "    return 4d array\n",
    "    \"\"\"\n",
    "    def predict_result(image_array):    \n",
    "        return (model_NASNetLarge.predict(image_array)).tolist()\n",
    "    image = io.imread(path)\n",
    "    img2arr_NASNetLarge  = cv2.cvtColor(image, cv2.COLOR_BGR2RGB)\n",
    "    img2arr_NASNetLarge = cv2.resize(img2arr_NASNetLarge,(331,331))\n",
    "    img2arr_NASNetLarge = np.array(img2arr_NASNetLarge, dtype='float32')\n",
    "    img2arr_NASNetLarge = np.stack([img2arr_NASNetLarge], axis=0)\n",
    "    img2arr_NASNetLarge/=255\n",
    "    result_InceptionResNetV2_prob = predict_result(img2arr_NASNetLarge)[0]       \n",
    "    return result_InceptionResNetV2_prob \n",
    "\n",
    "\n",
    "# 全部的圖片路徑 --> list()\n",
    "\n",
    "def model_vote(xception_predict,NASNetLarge_predict,NetB7_predict):\n",
    "    avg = [x + y +z  for x, y, z in zip(NetB7_predict, xception_predict,NASNetLarge_predict)]\n",
    "    ans = np.argmax(avg).tolist()\n",
    "    return [class_names_label[str(ans)], ans]   \n",
    "    \n",
    "\n",
    "\n",
    "def show_test_img(path):\n",
    "    img = io.imread(path,0)\n",
    "    plt.imshow(img, interpolation = 'bicubic')\n",
    "    plt.xticks([]), plt.yticks([])  # to hide tick values on X and Y axis\n",
    "    plt.show()"
   ]
  },
  {
   "cell_type": "code",
   "execution_count": null,
   "metadata": {
    "colab": {},
    "colab_type": "code",
    "id": "WQmqMiZd1KFW"
   },
   "outputs": [],
   "source": [
    "for i in range(50):\n",
    "    print(\"EfficientNetB7模型預測為\",img2arr_EfficientNetB7(all_images_path[i]))\n",
    "    print(\"img2arr_xception模型預測為\",img2arr_xception(all_images_path[i]))\n",
    "    # print(\"InceptionResNetV2模型預測為\",img2arr_InceptionResNetV2(all_images_path[i]))\n",
    "    print(\"img2arr_NASNetLarge模型預測為\",img2arr_NASNetLarge(all_images_path[i]))     \n",
    "    \n",
    "    NASNetLarge_predict = img2arr_NASNetLarge_prob(all_images_path[i])\n",
    "    NetB7_predict = img2arr_EfficientNetB7_prob(all_images_path[i])\n",
    "    xception_predict = img2arr_xception_prob(all_images_path[i])\n",
    "    # NetV2_predict = img2arr_InceptionResNetV2_prob(all_images_path[i])\n",
    "    print(\"共識算法模型預測為\",model_vote(NetB7_predict, xception_predict,NASNetLarge_predict))\n",
    "    show_test_img(all_images_path[i])    "
   ]
  },
  {
   "cell_type": "code",
   "execution_count": null,
   "metadata": {
    "colab": {},
    "colab_type": "code",
    "id": "-cT-oLcV1j-p"
   },
   "outputs": [],
   "source": [
    "#填答____________________________________________________________________________________________"
   ]
  },
  {
   "cell_type": "code",
   "execution_count": null,
   "metadata": {
    "colab": {},
    "colab_type": "code",
    "id": "Em9WRC7r31Zr"
   },
   "outputs": [],
   "source": [
    "# 全部的圖片路徑 --> list()\n",
    "\n",
    "class_names = ['long_skirt', 'Muslim', 'tshirt', 'long_tshirt', 'jeans', 'ring','earring','hat','wallet','trunk','phone_case',\n",
    "               'iphone','clock','feeding_bottle','electric_pot','coffee_beans','flat_shoes','high_heels','Electrical_appliances',\n",
    "               'usb','chair','racket','helmet','gloves','watch','belt','earphone','toycar','thick_coat',\n",
    "               'tide_pants','canvas_shoes','snacks','mask','bottled_liquid','care_products','perfume','cleaning_tools',\n",
    "               'laptop','bowl','decoration','bathroom_supplies','sofa']\n",
    "\n",
    "class_names_label = {str(i):class_name for i, class_name in enumerate(class_names)}\n",
    "\n",
    "\n",
    "from tqdm import tqdm\n",
    "\n",
    "#輸出結果儲存於 csv\n",
    "predict_class_list = list()\n",
    "for i in tqdm(range(len(all_images_path))):   \n",
    "    NASNetLarge_predict = img2arr_NASNetLarge_prob(all_images_path[i])\n",
    "    NetB7_predict = img2arr_EfficientNetB7_prob(all_images_path[i])\n",
    "    xception_predict = img2arr_xception_prob(all_images_path[i])\n",
    "    NetV2_predict = img2arr_InceptionResNetV2_prob(all_images_path[i])\n",
    "\n",
    "    predict_class_list.append(model_vote(NetB7_predict, xception_predict,NASNetLarge_predict)[1])\n",
    "print(predict_class_list)   \n",
    "\n",
    "# save to DataFrame\n",
    "df = pd.DataFrame(predict_class_list, columns=['predict class'])\n",
    "df.to_csv('test_result.csv', encoding='utf-8-sig', index=None)"
   ]
  },
  {
   "cell_type": "code",
   "execution_count": null,
   "metadata": {
    "colab": {},
    "colab_type": "code",
    "id": "xxeaSc3V4obx"
   },
   "outputs": [],
   "source": [
    "print(5)"
   ]
  },
  {
   "cell_type": "code",
   "execution_count": null,
   "metadata": {
    "colab": {},
    "colab_type": "code",
    "id": "DyfRV0_74blE"
   },
   "outputs": [],
   "source": [
    "\"\"\"\n",
    "怕colab自動登出,給他一行程式跑\n",
    "\"\"\"\n",
    "\n",
    "import time\n",
    "a=0\n",
    "while True:\n",
    "    a+=1\n",
    "    time.sleep(5)"
   ]
  },
  {
   "cell_type": "code",
   "execution_count": null,
   "metadata": {
    "colab": {},
    "colab_type": "code",
    "id": "KIL7nqepLFAO"
   },
   "outputs": [],
   "source": []
  }
 ],
 "metadata": {
  "accelerator": "GPU",
  "colab": {
   "machine_shape": "hm",
   "name": "填答.ipynb",
   "private_outputs": true,
   "provenance": []
  },
  "kernelspec": {
   "display_name": "Python 3",
   "language": "python",
   "name": "python3"
  },
  "language_info": {
   "codemirror_mode": {
    "name": "ipython",
    "version": 3
   },
   "file_extension": ".py",
   "mimetype": "text/x-python",
   "name": "python",
   "nbconvert_exporter": "python",
   "pygments_lexer": "ipython3",
   "version": "3.7.3"
  }
 },
 "nbformat": 4,
 "nbformat_minor": 1
}
