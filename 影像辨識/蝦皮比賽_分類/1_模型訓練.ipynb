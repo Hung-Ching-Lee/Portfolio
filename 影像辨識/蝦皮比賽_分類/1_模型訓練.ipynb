{
 "cells": [
  {
   "cell_type": "code",
   "execution_count": null,
   "metadata": {
    "colab": {},
    "colab_type": "code",
    "id": "FYWm2nWZvhJt"
   },
   "outputs": [],
   "source": [
    "from google.colab import drive\n",
    "drive.mount('/content/drive/')"
   ]
  },
  {
   "cell_type": "code",
   "execution_count": null,
   "metadata": {
    "colab": {},
    "colab_type": "code",
    "id": "42LzEzJf_UKS"
   },
   "outputs": [],
   "source": [
    "!pip install efficientnet"
   ]
  },
  {
   "cell_type": "code",
   "execution_count": null,
   "metadata": {
    "colab": {},
    "colab_type": "code",
    "id": "MIZAPGPg0hjv"
   },
   "outputs": [],
   "source": [
    "import numpy as np\n",
    "import os\n",
    "from sklearn.metrics import confusion_matrix\n",
    "import seaborn as sn; sn.set(font_scale=1.4)\n",
    "from sklearn.utils import shuffle           \n",
    "import matplotlib.pyplot as plt             \n",
    "import cv2                                 \n",
    "import tensorflow as tf                \n",
    "from tqdm import tqdm\n",
    "import zipfile\n",
    "import efficientnet.keras as efn   #efficientnet模型"
   ]
  },
  {
   "cell_type": "code",
   "execution_count": null,
   "metadata": {
    "colab": {},
    "colab_type": "code",
    "id": "SOlx4DMCvyKi"
   },
   "outputs": [],
   "source": [
    "\"\"\"\n",
    "弄到colab/content硬碟底下讀取速度比較快\n",
    "\n",
    "\"\"\"\n",
    "file_dir = '/content/drive/My Drive/shopee-product-detection-dataset.zip 的副本'  # 你的压缩包路径\n",
    "zipFile = zipfile.ZipFile(file_dir)\n",
    "for file in zipFile.namelist():\n",
    "    zipFile.extract(file, '/content/shopee')  # 解压路径\n",
    "zipFile.close()\n"
   ]
  },
  {
   "cell_type": "markdown",
   "metadata": {
    "colab_type": "text",
    "id": "4XA-mMay-n2s"
   },
   "source": []
  },
  {
   "cell_type": "code",
   "execution_count": null,
   "metadata": {
    "colab": {},
    "colab_type": "code",
    "id": "CaATtVvAkXLr"
   },
   "outputs": [],
   "source": [
    "ROWS=600\n",
    "COLS=600\n",
    "batch_size = 32\n",
    "from keras.preprocessing.image import ImageDataGenerator\n",
    "from keras.applications.inception_v3 import preprocess_input\n",
    "train_idg = ImageDataGenerator(vertical_flip=False,\n",
    "                               horizontal_flip=False,\n",
    "                               height_shift_range=0.1,\n",
    "                               width_shift_range=0.1,\n",
    "                               validation_split=0.1, \n",
    "                               preprocessing_function=preprocess_input)\n",
    "train_gen = train_idg.flow_from_directory(\n",
    "    r\"/content/shopee/train/train\",\n",
    "    target_size=(ROWS, COLS),\n",
    "    batch_size = batch_size\n",
    ")"
   ]
  },
  {
   "cell_type": "code",
   "execution_count": null,
   "metadata": {
    "colab": {},
    "colab_type": "code",
    "id": "zIcHChLaqYE5"
   },
   "outputs": [],
   "source": [
    "train_gen = train_idg.flow_from_directory(\n",
    "    r\"/content/shopee/train/train\",\n",
    "    target_size=(ROWS, COLS),\n",
    "    batch_size=batch_size,\n",
    "    class_mode='categorical',\n",
    "    subset='training')\n",
    "\n",
    "validation_gen = train_idg.flow_from_directory(\n",
    "    r\"/content/shopee/train/train\",\n",
    "    target_size=(ROWS, COLS),\n",
    "    batch_size=batch_size,\n",
    "    class_mode='categorical',\n",
    "    subset='validation')\n"
   ]
  },
  {
   "cell_type": "code",
   "execution_count": null,
   "metadata": {
    "colab": {},
    "colab_type": "code",
    "id": "my2NtOcGQP_5"
   },
   "outputs": [],
   "source": [
    "import keras\n",
    "from keras.models import Sequential\n",
    "from keras.models import Model\n",
    "from keras.callbacks import ModelCheckpoint, LearningRateScheduler, EarlyStopping, ReduceLROnPlateau, TensorBoard\n",
    "from keras import optimizers, losses, activations, models\n",
    "from keras.layers import Convolution2D, Dense, Input, Flatten, Dropout, MaxPooling2D, BatchNormalization, GlobalAveragePooling2D, Concatenate\n",
    "from keras import applications\n",
    "from keras.utils import multi_gpu_model\n",
    "from keras.callbacks import ModelCheckpoint,EarlyStopping\n",
    "from keras.models import load_model\n"
   ]
  },
  {
   "cell_type": "code",
   "execution_count": null,
   "metadata": {
    "colab": {},
    "colab_type": "code",
    "id": "xxIZwtb4qcZY"
   },
   "outputs": [],
   "source": [
    "\n",
    "\n",
    "Adam = keras.optimizers.Adam(lr=0.0005, beta_1=0.9, beta_2=0.999, epsilon=0.001, decay=0.0, amsgrad=False)\n",
    "input_shape = (ROWS, COLS, 3)\n",
    "\n",
    "nclass = len(train_gen.class_indices)\n",
    "\n",
    "base_model = efn.EfficientNetB7(weights='imagenet', \n",
    "                                include_top=False, \n",
    "                                pooling='avg',\n",
    "                                input_shape=(ROWS, COLS,3))\n",
    "base_model.trainable = False\n",
    "\n",
    "add_model = Sequential()\n",
    "add_model.add(base_model)\n",
    "# add_model.add(Dense(600,activation='relu'))\n",
    "# add_model.add(Dropout(0.2))\n",
    "# add_model.add(Dense(300,activation='relu'))\n",
    "# add_model.add(Dropout(0.2))\n",
    "# add_model.add(Flatten())\n",
    "add_model.add(Dense(nclass, \n",
    "                    activation='softmax'))\n",
    "model = add_model\n",
    "model.compile(loss='categorical_crossentropy', \n",
    "              optimizer=Adam,\n",
    "              metrics=['accuracy'])\n",
    "model.summary()"
   ]
  },
  {
   "cell_type": "code",
   "execution_count": null,
   "metadata": {
    "colab": {},
    "colab_type": "code",
    "id": "xbl9oRYDpxb7"
   },
   "outputs": [],
   "source": [
    "\"\"\"\n",
    "模型存成json檔\n",
    "\"\"\"\n",
    "model_json = model.to_json()\n",
    "with open(\"/content/drive/My Drive/DL/model/EfficientNetB7.json\", \"w\") as json_file:\n",
    "    json_file.write(model_json)"
   ]
  },
  {
   "cell_type": "code",
   "execution_count": null,
   "metadata": {
    "colab": {},
    "colab_type": "code",
    "id": "kwhP8zdyqf4e"
   },
   "outputs": [],
   "source": [
    "import tensorflow as tf\n",
    "from keras.callbacks import ModelCheckpoint\n",
    "filepath=\"/content/drive/My Drive/DL/model/EfficientNetB7_weights.h5\"\n",
    "# checkpoint = ModelCheckpoint(filepath, monitor='val_acc', verbose=1, save_best_only=True,\n",
    "# mode='max')\n",
    "checkpoint = keras.callbacks.ModelCheckpoint(filepath, monitor='accuracy', verbose=0, save_best_only=True, save_weights_only=True, mode='auto', period=1)\n",
    "callbacks_list = [checkpoint]\n",
    "\n",
    "\n",
    "\n",
    "history = model.fit_generator(\n",
    "    train_gen,\n",
    "    steps_per_epoch = 3294,\n",
    "    # validation_data = validation_gen, \n",
    "    # validation_steps = 1976,\n",
    "    callbacks=callbacks_list,\n",
    "    epochs = 10 )"
   ]
  },
  {
   "cell_type": "code",
   "execution_count": null,
   "metadata": {
    "colab": {},
    "colab_type": "code",
    "id": "un5rYka4qpPp"
   },
   "outputs": [],
   "source": [
    "\"\"\"\n",
    "model 開啟json檔\n",
    "\"\"\"\n",
    "from keras.models import model_from_json\n",
    "model1 = model_from_json(open('/content/drive/My Drive/DL/model/EfficientNetB7.json').read())\n",
    "\n",
    "\"\"\"\n",
    "json模型載入權重\n",
    "\"\"\"\n",
    "model1.load_weights(\"/content/drive/My Drive/DL/model/EfficientNetB7_weights.h5\")\n",
    "model1.summary()\n"
   ]
  },
  {
   "cell_type": "code",
   "execution_count": null,
   "metadata": {
    "colab": {},
    "colab_type": "code",
    "id": "T8aPuTLWxxMg"
   },
   "outputs": [],
   "source": [
    "model1.save('/content/drive/My Drive/DL/model/EfficientNetB7_new.h5')  "
   ]
  },
  {
   "cell_type": "code",
   "execution_count": null,
   "metadata": {
    "colab": {},
    "colab_type": "code",
    "id": "0BmTOB96qwlQ"
   },
   "outputs": [],
   "source": [
    "\"\"\"\n",
    "目的是要讓自己的層數可以訓練而不動到其他層\n",
    "\n",
    "\"\"\"\n",
    "\n",
    "model1.trainable = True   #改成可以訓練\n",
    "model1.layers[0].trainable=False  #把\n",
    "model1.summary()"
   ]
  },
  {
   "cell_type": "code",
   "execution_count": null,
   "metadata": {
    "colab": {},
    "colab_type": "code",
    "id": "ZxfRVBIKxwhS"
   },
   "outputs": [],
   "source": []
  },
  {
   "cell_type": "code",
   "execution_count": null,
   "metadata": {
    "colab": {},
    "colab_type": "code",
    "id": "B1cinNRBq1Mw"
   },
   "outputs": [],
   "source": [
    "model1.compile(loss='categorical_crossentropy', \n",
    "              optimizer=\"adam\",\n",
    "              metrics=['accuracy'])\n"
   ]
  },
  {
   "cell_type": "code",
   "execution_count": null,
   "metadata": {
    "colab": {},
    "colab_type": "code",
    "id": "Q4UGHtYz-Ya8"
   },
   "outputs": [],
   "source": [
    "\"\"\"\n",
    "怕colab自動登出,給他一行程式跑\n",
    "\"\"\"\n",
    "\n",
    "import time\n",
    "a=0\n",
    "while True:\n",
    "    a+=1\n",
    "    time.sleep(5)\n"
   ]
  },
  {
   "cell_type": "code",
   "execution_count": null,
   "metadata": {
    "colab": {},
    "colab_type": "code",
    "id": "2XLAR3ytCchr"
   },
   "outputs": [],
   "source": [
    "import shutil\n",
    "shutil.copyfile(\"/content/drive/My Drive/DL/model/EfficientNetB7.h5\", r\"/content/EfficientNetB7.h5\")"
   ]
  },
  {
   "cell_type": "code",
   "execution_count": null,
   "metadata": {
    "colab": {},
    "colab_type": "code",
    "id": "ttdFedApEL-x"
   },
   "outputs": [],
   "source": [
    "!/opt/bin/nvidia-smi"
   ]
  },
  {
   "cell_type": "code",
   "execution_count": null,
   "metadata": {
    "colab": {},
    "colab_type": "code",
    "id": "1hGa65RhIDQR"
   },
   "outputs": [],
   "source": []
  }
 ],
 "metadata": {
  "accelerator": "GPU",
  "colab": {
   "machine_shape": "hm",
   "name": "1.模型訓練.ipynb",
   "private_outputs": true,
   "provenance": []
  },
  "kernelspec": {
   "display_name": "Python 3",
   "language": "python",
   "name": "python3"
  },
  "language_info": {
   "codemirror_mode": {
    "name": "ipython",
    "version": 3
   },
   "file_extension": ".py",
   "mimetype": "text/x-python",
   "name": "python",
   "nbconvert_exporter": "python",
   "pygments_lexer": "ipython3",
   "version": "3.7.3"
  }
 },
 "nbformat": 4,
 "nbformat_minor": 1
}
